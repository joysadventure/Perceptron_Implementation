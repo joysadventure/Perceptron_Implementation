{
 "cells": [
  {
   "cell_type": "code",
   "execution_count": 14,
   "id": "d83a2513",
   "metadata": {},
   "outputs": [],
   "source": [
    "import os\n",
    "import matplotlib.pyplot as plt\n",
    "import joblib\n",
    "import numpy as np\n",
    "import pandas as pd\n",
    "plt.style.use(\"fivethirtyeight\")"
   ]
  },
  {
   "cell_type": "code",
   "execution_count": 15,
   "id": "fb0a5183",
   "metadata": {},
   "outputs": [],
   "source": [
    "##!pip install joblib"
   ]
  },
  {
   "cell_type": "code",
   "execution_count": 16,
   "id": "7fa323d6",
   "metadata": {},
   "outputs": [],
   "source": [
    "class Perceptron():\n",
    "    def __init__(self, eta:float=None, epochs : int=None):\n",
    "        self.weights = np.random.randn(3) * 1e-4 ## Always keep the weights small so that it takes less time to train.\n",
    "        self.eta = eta ## learning rate\n",
    "        self.epochs = epochs ## iterations \n",
    "        \n",
    "    def _z_outcome(self,inputs,weigths):  ## This is to multiply the inputs \"x\" to the weights w     \n",
    "        return np.dot(inputs,weights)\n",
    "    \n",
    "    def activation_function(self, z): ## Defining the activation function\n",
    "        return np.where(z > 0, 1, 0)\n",
    "    \n",
    "    def fit(self,X,y):\n",
    "        self.X = X\n",
    "        self.y = y\n",
    "        \n",
    "        X_with_bias = np.c_[self.X, -np.ones((len(self.X), 1))]\n",
    "        print(f\"X with bias : \\n{X_with_bias}\")\n",
    "        \n",
    "        for epochs in range(self.epochs):\n",
    "            \n",
    "            z = self._z_outcome(X_with_bias, self.weights)\n",
    "            y_hat = self.activation_function(z)\n",
    "            \n",
    "            self.error = self.y - y_hat                              ## finding the error\n",
    "            self.weights = self.weights + self.eta + np.dot(X_with_bias + self.error)\n",
    "            \n",
    "    ## Get the prediction\n",
    "    \n",
    "    def prediction(self,X):\n",
    "        X_with_Bias = np.c_[X, -np.ones((len(X),1))] ## it has to be input by the user\n",
    "        z = self._z_outcome(X_with_bias, self.weights)\n",
    "        return self.activation_function(z)"
   ]
  },
  {
   "cell_type": "code",
   "execution_count": 17,
   "id": "4e6d93cc",
   "metadata": {},
   "outputs": [
    {
     "data": {
      "text/html": [
       "<div>\n",
       "<style scoped>\n",
       "    .dataframe tbody tr th:only-of-type {\n",
       "        vertical-align: middle;\n",
       "    }\n",
       "\n",
       "    .dataframe tbody tr th {\n",
       "        vertical-align: top;\n",
       "    }\n",
       "\n",
       "    .dataframe thead th {\n",
       "        text-align: right;\n",
       "    }\n",
       "</style>\n",
       "<table border=\"1\" class=\"dataframe\">\n",
       "  <thead>\n",
       "    <tr style=\"text-align: right;\">\n",
       "      <th></th>\n",
       "      <th>x1</th>\n",
       "      <th>x2</th>\n",
       "      <th>x3</th>\n",
       "    </tr>\n",
       "  </thead>\n",
       "  <tbody>\n",
       "    <tr>\n",
       "      <th>0</th>\n",
       "      <td>0</td>\n",
       "      <td>0</td>\n",
       "      <td>0</td>\n",
       "    </tr>\n",
       "    <tr>\n",
       "      <th>1</th>\n",
       "      <td>0</td>\n",
       "      <td>1</td>\n",
       "      <td>1</td>\n",
       "    </tr>\n",
       "    <tr>\n",
       "      <th>2</th>\n",
       "      <td>1</td>\n",
       "      <td>0</td>\n",
       "      <td>1</td>\n",
       "    </tr>\n",
       "    <tr>\n",
       "      <th>3</th>\n",
       "      <td>1</td>\n",
       "      <td>1</td>\n",
       "      <td>1</td>\n",
       "    </tr>\n",
       "  </tbody>\n",
       "</table>\n",
       "</div>"
      ],
      "text/plain": [
       "   x1  x2  x3\n",
       "0   0   0   0\n",
       "1   0   1   1\n",
       "2   1   0   1\n",
       "3   1   1   1"
      ]
     },
     "execution_count": 17,
     "metadata": {},
     "output_type": "execute_result"
    }
   ],
   "source": [
    "## Creating the OR gate \n",
    "\n",
    "OR = {\n",
    "    \n",
    "    \"x1\" : [0,0,1,1],\n",
    "    \"x2\" : [0,1,0,1],\n",
    "    \"x3\" : [0,1,1,1]\n",
    " \n",
    "}\n",
    "\n",
    "df_OR = pd.DataFrame(OR)\n",
    "df_OR\n"
   ]
  },
  {
   "cell_type": "code",
   "execution_count": 20,
   "id": "c1772fa2",
   "metadata": {},
   "outputs": [],
   "source": [
    "## Now preparation of the data\n",
    "\n",
    "def prepare_data(df, target_col = \"y\"):\n",
    "    X = df.drop(target_col, axis = 1)\n",
    "    y = df[target_col]\n",
    "\n",
    "    return X,y"
   ]
  },
  {
   "cell_type": "code",
   "execution_count": null,
   "id": "8a5f504d",
   "metadata": {},
   "outputs": [],
   "source": []
  },
  {
   "cell_type": "code",
   "execution_count": null,
   "id": "e5553b37",
   "metadata": {},
   "outputs": [],
   "source": []
  }
 ],
 "metadata": {
  "kernelspec": {
   "display_name": "Python 3 (ipykernel)",
   "language": "python",
   "name": "python3"
  },
  "language_info": {
   "codemirror_mode": {
    "name": "ipython",
    "version": 3
   },
   "file_extension": ".py",
   "mimetype": "text/x-python",
   "name": "python",
   "nbconvert_exporter": "python",
   "pygments_lexer": "ipython3",
   "version": "3.7.13"
  }
 },
 "nbformat": 4,
 "nbformat_minor": 5
}
