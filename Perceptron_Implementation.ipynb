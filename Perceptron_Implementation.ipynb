{
 "cells": [
  {
   "cell_type": "code",
   "execution_count": 4,
   "id": "d83a2513",
   "metadata": {},
   "outputs": [],
   "source": [
    "import os\n",
    "import matplotlib.pyplot as plt\n",
    "import joblib\n",
    "import numpy as np\n",
    "plt.style.use(\"fivethirtyeight\")"
   ]
  },
  {
   "cell_type": "code",
   "execution_count": 5,
   "id": "fb0a5183",
   "metadata": {},
   "outputs": [],
   "source": [
    "##!pip install joblib"
   ]
  },
  {
   "cell_type": "code",
   "execution_count": 18,
   "id": "7fa323d6",
   "metadata": {},
   "outputs": [],
   "source": [
    "class Perceptron():\n",
    "    def __init__(self, eta: float=None, epochs : int=None):\n",
    "        self.weights = np.random.randn(3) * 1e-4 ## Always keep the weights small so that it takes less time to train.\n",
    "        self.eta = eta ## learning rate\n",
    "        self.epochs = epochs ## iterations \n",
    "        \n",
    "    def _z_outcome(self,inputs,weigths):  ## This is to multiple the inputs \"x\" to the weights w     \n",
    "        return np.dot(inputs,weights)\n",
    "    \n",
    "    def activation_function(self, z): ## Defining the activation function\n",
    "        return np.where(z > 0, 1, 0)\n",
    "    \n",
    "    def fit(self,X,y):\n",
    "        self.X = X\n",
    "        self.y = y\n",
    "        \n",
    "        X_with_bias = np.c_[self.X, -np.ones((len(self.X), 1))]\n",
    "        print(f\"X with bias : \\n{X_with_bias}\")\n",
    "        \n",
    "        for epochs in range(self.epochs):\n",
    "            \n",
    "            z = self._z_outcome(X_with_bias, self.weights)\n",
    "            y_hat = self.activation_function(z)\n",
    "            \n",
    "            self.error = self.y - y_hat                                        ## finding the error\n",
    "            self.weights = self.weights + self.eta + np.dot(X_with_bias + self.error)"
   ]
  },
  {
   "cell_type": "code",
   "execution_count": 33,
   "id": "979b9fc2",
   "metadata": {},
   "outputs": [
    {
     "data": {
      "text/plain": [
       "0.01"
      ]
     },
     "execution_count": 33,
     "metadata": {},
     "output_type": "execute_result"
    }
   ],
   "source": [
    "obj = Perceptron(eta = 0.01, epochs=10)\n",
    "obj.eta"
   ]
  },
  {
   "cell_type": "code",
   "execution_count": 34,
   "id": "d5c253eb",
   "metadata": {},
   "outputs": [
    {
     "data": {
      "text/plain": [
       "10"
      ]
     },
     "execution_count": 34,
     "metadata": {},
     "output_type": "execute_result"
    }
   ],
   "source": [
    "obj.epochs"
   ]
  },
  {
   "cell_type": "code",
   "execution_count": 35,
   "id": "d5179533",
   "metadata": {},
   "outputs": [
    {
     "data": {
      "text/plain": [
       "array([-3.69518792e-05,  2.00702974e-04,  5.82837327e-05])"
      ]
     },
     "execution_count": 35,
     "metadata": {},
     "output_type": "execute_result"
    }
   ],
   "source": [
    "obj.weights"
   ]
  },
  {
   "cell_type": "code",
   "execution_count": 38,
   "id": "f02f8f15",
   "metadata": {},
   "outputs": [
    {
     "data": {
      "text/plain": [
       "array([[1., 1.],\n",
       "       [1., 1.],\n",
       "       [1., 1.],\n",
       "       [1., 1.]])"
      ]
     },
     "execution_count": 38,
     "metadata": {},
     "output_type": "execute_result"
    }
   ],
   "source": [
    "y = np.ones((4,2))\n",
    "y"
   ]
  },
  {
   "cell_type": "code",
   "execution_count": 44,
   "id": "6d7acdb0",
   "metadata": {},
   "outputs": [
    {
     "data": {
      "text/plain": [
       "array(1)"
      ]
     },
     "execution_count": 44,
     "metadata": {},
     "output_type": "execute_result"
    }
   ],
   "source": [
    "z = 2\n",
    "np.where(z > 0, 1, 0)"
   ]
  },
  {
   "cell_type": "code",
   "execution_count": null,
   "id": "fd0a0449",
   "metadata": {},
   "outputs": [],
   "source": []
  }
 ],
 "metadata": {
  "kernelspec": {
   "display_name": "Python 3 (ipykernel)",
   "language": "python",
   "name": "python3"
  },
  "language_info": {
   "codemirror_mode": {
    "name": "ipython",
    "version": 3
   },
   "file_extension": ".py",
   "mimetype": "text/x-python",
   "name": "python",
   "nbconvert_exporter": "python",
   "pygments_lexer": "ipython3",
   "version": "3.7.13"
  }
 },
 "nbformat": 4,
 "nbformat_minor": 5
}
